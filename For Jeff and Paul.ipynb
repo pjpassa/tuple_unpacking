{
 "cells": [
  {
   "cell_type": "code",
   "execution_count": 3,
   "metadata": {
    "collapsed": false
   },
   "outputs": [
    {
     "name": "stdout",
     "output_type": "stream",
     "text": [
      "['King of Clubs']\n",
      "[10]\n",
      "['King of Clubs', 'Three of Diamonds']\n",
      "[10, 3]\n",
      "['King of Clubs', 'Three of Diamonds', 'Ace of Hearts']\n",
      "[10, 3, 'A']\n"
     ]
    }
   ],
   "source": [
    "card_list = [(\"Ace of Hearts\", \"A\"), (\"Three of Diamonds\", 3), (\"King of Clubs\", 10)]\n",
    "\n",
    "name_list = []\n",
    "value_list = []\n",
    "for i in range(3):\n",
    "    name, value = card_list.pop()\n",
    "    name_list.append(name)\n",
    "    value_list.append(value)\n",
    "    print(name_list)\n",
    "    print(value_list)"
   ]
  }
 ],
 "metadata": {
  "kernelspec": {
   "display_name": "Python 3",
   "language": "python",
   "name": "python3"
  },
  "language_info": {
   "codemirror_mode": {
    "name": "ipython",
    "version": 3
   },
   "file_extension": ".py",
   "mimetype": "text/x-python",
   "name": "python",
   "nbconvert_exporter": "python",
   "pygments_lexer": "ipython3",
   "version": "3.4.3"
  }
 },
 "nbformat": 4,
 "nbformat_minor": 0
}
